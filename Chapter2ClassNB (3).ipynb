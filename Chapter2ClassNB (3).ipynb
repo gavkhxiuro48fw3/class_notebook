{
 "cells": [
  {
   "cell_type": "markdown",
   "id": "81b2bbc8",
   "metadata": {
    "slideshow": {
     "slide_type": "slide"
    }
   },
   "source": [
    "# Chapter 2: Variables and and Simple Data Types\n",
    "* A variable name is an **identifier**. \n",
    "* May consist of letters, digits and underscores (`_`) but may not begin with a digit. \n",
    "* Python is _case sensitive_. \n",
    "* Each value in Python has a type that indicates the kind of data the value represents. "
   ]
  },
  {
   "cell_type": "markdown",
   "id": "9f73fa21",
   "metadata": {
    "slideshow": {
     "slide_type": "slide"
    }
   },
   "source": [
    "####  Statement creates `x` and uses the **assignment symbol (`=`)** to give `x` a value. "
   ]
  },
  {
   "cell_type": "code",
   "execution_count": 5,
   "id": "92846dd3",
   "metadata": {},
   "outputs": [
    {
     "name": "stdout",
     "output_type": "stream",
     "text": [
      "Hello World\n"
     ]
    }
   ],
   "source": [
    "Data_1=\"Hello World\"\n",
    "print(Data_1)"
   ]
  },
  {
   "cell_type": "code",
   "execution_count": 10,
   "id": "cff4731d",
   "metadata": {},
   "outputs": [
    {
     "name": "stdout",
     "output_type": "stream",
     "text": [
      "hello\n"
     ]
    }
   ],
   "source": [
    "_data1=\"hello\"\n",
    "print(_data1)"
   ]
  },
  {
   "cell_type": "code",
   "execution_count": 9,
   "id": "0f5b7b51",
   "metadata": {},
   "outputs": [
    {
     "ename": "SyntaxError",
     "evalue": "invalid decimal literal (2103717967.py, line 1)",
     "output_type": "error",
     "traceback": [
      "\u001b[1;36m  File \u001b[1;32m\"C:\\Users\\rober\\AppData\\Local\\Temp\\ipykernel_28448\\2103717967.py\"\u001b[1;36m, line \u001b[1;32m1\u001b[0m\n\u001b[1;33m    1_data=hello\u001b[0m\n\u001b[1;37m     ^\u001b[0m\n\u001b[1;31mSyntaxError\u001b[0m\u001b[1;31m:\u001b[0m invalid decimal literal\n"
     ]
    }
   ],
   "source": [
    "1_data=hello"
   ]
  },
  {
   "cell_type": "code",
   "execution_count": null,
   "id": "1e00b313",
   "metadata": {},
   "outputs": [],
   "source": []
  },
  {
   "cell_type": "markdown",
   "id": "87338e34",
   "metadata": {},
   "source": [
    "### Print a message"
   ]
  },
  {
   "cell_type": "code",
   "execution_count": 12,
   "id": "3bace5f9",
   "metadata": {},
   "outputs": [
    {
     "name": "stdout",
     "output_type": "stream",
     "text": [
      "welcome to programing with Python\n"
     ]
    }
   ],
   "source": [
    "message=\"welcome to programing with Python\"\n",
    "print(message)"
   ]
  },
  {
   "cell_type": "code",
   "execution_count": null,
   "id": "a991a1a0",
   "metadata": {},
   "outputs": [],
   "source": []
  },
  {
   "cell_type": "markdown",
   "id": "89fec02b",
   "metadata": {},
   "source": [
    "### Try to print a Simple Message: Store a message in a variable, and then print that message."
   ]
  },
  {
   "cell_type": "code",
   "execution_count": 14,
   "id": "4bf85453",
   "metadata": {},
   "outputs": [
    {
     "name": "stdout",
     "output_type": "stream",
     "text": [
      "this is a simple message\n"
     ]
    }
   ],
   "source": [
    "SimpleMessage=\"this is a simple message\"\n",
    "print(SimpleMessage)"
   ]
  },
  {
   "cell_type": "code",
   "execution_count": null,
   "id": "55bdd6b2",
   "metadata": {},
   "outputs": [],
   "source": []
  },
  {
   "cell_type": "code",
   "execution_count": null,
   "id": "5698773f",
   "metadata": {},
   "outputs": [],
   "source": []
  },
  {
   "cell_type": "markdown",
   "id": "5f8394d9",
   "metadata": {},
   "source": [
    "# Strings"
   ]
  },
  {
   "cell_type": "markdown",
   "id": "be203204",
   "metadata": {},
   "source": [
    "## A string is simply a series of characters. Anything inside quotes is considered a string in Python, and you can use `single` or `double quotes` around your strings\n",
    "### \"This is a string.\"\n",
    "### 'This is also a string.'"
   ]
  },
  {
   "cell_type": "markdown",
   "id": "adae7f7c",
   "metadata": {},
   "source": [
    "###  Build in String methods\n",
    "Directory: dir('  ')"
   ]
  },
  {
   "cell_type": "code",
   "execution_count": 15,
   "id": "f6103d72",
   "metadata": {},
   "outputs": [
    {
     "data": {
      "text/plain": [
       "' '"
      ]
     },
     "execution_count": 15,
     "metadata": {},
     "output_type": "execute_result"
    }
   ],
   "source": [
    "\" \""
   ]
  },
  {
   "cell_type": "code",
   "execution_count": 1,
   "id": "972ece85",
   "metadata": {},
   "outputs": [
    {
     "data": {
      "text/plain": [
       "['__add__',\n",
       " '__class__',\n",
       " '__contains__',\n",
       " '__delattr__',\n",
       " '__dir__',\n",
       " '__doc__',\n",
       " '__eq__',\n",
       " '__format__',\n",
       " '__ge__',\n",
       " '__getattribute__',\n",
       " '__getitem__',\n",
       " '__getnewargs__',\n",
       " '__gt__',\n",
       " '__hash__',\n",
       " '__init__',\n",
       " '__init_subclass__',\n",
       " '__iter__',\n",
       " '__le__',\n",
       " '__len__',\n",
       " '__lt__',\n",
       " '__mod__',\n",
       " '__mul__',\n",
       " '__ne__',\n",
       " '__new__',\n",
       " '__reduce__',\n",
       " '__reduce_ex__',\n",
       " '__repr__',\n",
       " '__rmod__',\n",
       " '__rmul__',\n",
       " '__setattr__',\n",
       " '__sizeof__',\n",
       " '__str__',\n",
       " '__subclasshook__',\n",
       " 'capitalize',\n",
       " 'casefold',\n",
       " 'center',\n",
       " 'count',\n",
       " 'encode',\n",
       " 'endswith',\n",
       " 'expandtabs',\n",
       " 'find',\n",
       " 'format',\n",
       " 'format_map',\n",
       " 'index',\n",
       " 'isalnum',\n",
       " 'isalpha',\n",
       " 'isascii',\n",
       " 'isdecimal',\n",
       " 'isdigit',\n",
       " 'isidentifier',\n",
       " 'islower',\n",
       " 'isnumeric',\n",
       " 'isprintable',\n",
       " 'isspace',\n",
       " 'istitle',\n",
       " 'isupper',\n",
       " 'join',\n",
       " 'ljust',\n",
       " 'lower',\n",
       " 'lstrip',\n",
       " 'maketrans',\n",
       " 'partition',\n",
       " 'replace',\n",
       " 'rfind',\n",
       " 'rindex',\n",
       " 'rjust',\n",
       " 'rpartition',\n",
       " 'rsplit',\n",
       " 'rstrip',\n",
       " 'split',\n",
       " 'splitlines',\n",
       " 'startswith',\n",
       " 'strip',\n",
       " 'swapcase',\n",
       " 'title',\n",
       " 'translate',\n",
       " 'upper',\n",
       " 'zfill']"
      ]
     },
     "execution_count": 1,
     "metadata": {},
     "output_type": "execute_result"
    }
   ],
   "source": [
    "dir(\" \")"
   ]
  },
  {
   "cell_type": "code",
   "execution_count": 19,
   "id": "691e6b3a",
   "metadata": {},
   "outputs": [
    {
     "data": {
      "text/plain": [
       "'PYTHON PROGRAMMING LANGUAGE'"
      ]
     },
     "execution_count": 19,
     "metadata": {},
     "output_type": "execute_result"
    }
   ],
   "source": [
    "# make uppercase\n",
    "message= \"PyTHon PrograMMing LangUagE\"\n",
    "message.upper()"
   ]
  },
  {
   "cell_type": "code",
   "execution_count": 20,
   "id": "be0d6351",
   "metadata": {},
   "outputs": [
    {
     "data": {
      "text/plain": [
       "'python programming language'"
      ]
     },
     "execution_count": 20,
     "metadata": {},
     "output_type": "execute_result"
    }
   ],
   "source": [
    "# make lowercase\n",
    "message.lower()"
   ]
  },
  {
   "cell_type": "code",
   "execution_count": 21,
   "id": "bdcfb17f",
   "metadata": {},
   "outputs": [
    {
     "data": {
      "text/plain": [
       "'Python programming language'"
      ]
     },
     "execution_count": 21,
     "metadata": {},
     "output_type": "execute_result"
    }
   ],
   "source": [
    "# capitalize\n",
    "message.capitalize()\n"
   ]
  },
  {
   "cell_type": "code",
   "execution_count": 22,
   "id": "39359e69",
   "metadata": {},
   "outputs": [
    {
     "data": {
      "text/plain": [
       "'Python Programming Language'"
      ]
     },
     "execution_count": 22,
     "metadata": {},
     "output_type": "execute_result"
    }
   ],
   "source": [
    "# title\n",
    "message.title()"
   ]
  },
  {
   "cell_type": "code",
   "execution_count": 25,
   "id": "98ccee67",
   "metadata": {},
   "outputs": [
    {
     "name": "stdout",
     "output_type": "stream",
     "text": [
      "welcome to python programming language\n"
     ]
    }
   ],
   "source": [
    "# Concatination\n",
    "print(\"welcome to \" + message.lower())"
   ]
  },
  {
   "cell_type": "code",
   "execution_count": 26,
   "id": "c157d46f",
   "metadata": {},
   "outputs": [
    {
     "data": {
      "text/plain": [
       "27"
      ]
     },
     "execution_count": 26,
     "metadata": {},
     "output_type": "execute_result"
    }
   ],
   "source": [
    "# length\n",
    "len(message)"
   ]
  },
  {
   "cell_type": "code",
   "execution_count": null,
   "id": "4579678b",
   "metadata": {},
   "outputs": [],
   "source": []
  },
  {
   "cell_type": "markdown",
   "id": "9bdf8bca",
   "metadata": {},
   "source": [
    "## Practice1:\n",
    "1. Personal Message: Store a person’s name in a variable, and print a message\n",
    "to that person. Your message should be simple, such as, “Hello Eric,\n",
    "would you like to learn some Python today?”\n",
    "2. Name Cases: Store a person’s name in a variable, and then print that person’s\n",
    "name in lowercase, uppercase, and titlecase."
   ]
  },
  {
   "cell_type": "code",
   "execution_count": 33,
   "id": "ac1df096",
   "metadata": {},
   "outputs": [
    {
     "name": "stdout",
     "output_type": "stream",
     "text": [
      "hello Joe smith this is a message\n"
     ]
    }
   ],
   "source": [
    "name=\"Joe smith\"\n",
    "print(\"hello \"+name+\" this is a message\")"
   ]
  },
  {
   "cell_type": "code",
   "execution_count": 34,
   "id": "69ddf2f9",
   "metadata": {},
   "outputs": [
    {
     "name": "stdout",
     "output_type": "stream",
     "text": [
      "Joes name in lower case: joe smith\n"
     ]
    }
   ],
   "source": [
    "print(\"Joes name in lower case: \" + name.lower())"
   ]
  },
  {
   "cell_type": "code",
   "execution_count": 35,
   "id": "cec8c27b",
   "metadata": {},
   "outputs": [
    {
     "name": "stdout",
     "output_type": "stream",
     "text": [
      "joes name in title case: Joe Smith\n"
     ]
    }
   ],
   "source": [
    "print(\"joes name in title case: \" + name.title())"
   ]
  },
  {
   "cell_type": "markdown",
   "id": "1f7191b0",
   "metadata": {},
   "source": [
    "## Adding Whitespace to Strings with Tabs or Newlines or  quotation\n",
    "* A backslash (`\\`) in a string is the **escape character**. \n",
    "* The backslash and the character immediately following it form an **escape sequence**. \n",
    "\n",
    "#### 2.4.2 Other Escape Sequences\n",
    "| Escape sequence | Description\n",
    "| :------- | :------------\n",
    "| `\\n` | Insert a newline character in a string. When the string is displayed, for each newline, move the screen cursor to the beginning of the next line. \n",
    "| `\\t` | Insert a horizontal tab. When the string is displayed, for each tab, move the screen cursor to the next tab stop. \n",
    "| `\\\\` | Insert a backslash character in a string.\n",
    "| `\\\"` | Insert a double quote character in a string.\n",
    "| `\\'` | Insert a single quote character in a string."
   ]
  },
  {
   "cell_type": "code",
   "execution_count": 37,
   "id": "ed57b62f",
   "metadata": {},
   "outputs": [
    {
     "name": "stdout",
     "output_type": "stream",
     "text": [
      "Insert a newline character in a string. \n",
      "When the string is displayed, \n",
      "for each newline, \n",
      "move the screen cursor to the beginning of the next line.\n"
     ]
    }
   ],
   "source": [
    "print(\"Insert a newline character in a string. \\nWhen the string is displayed, \\nfor each newline, \\nmove the screen cursor to the beginning of the next line.\")"
   ]
  },
  {
   "cell_type": "code",
   "execution_count": 38,
   "id": "161cc541",
   "metadata": {},
   "outputs": [
    {
     "name": "stdout",
     "output_type": "stream",
     "text": [
      "Insert a horizontal tab. \tWhen the string is displayed, \tfor each tab, \tmove the screen cursor to the next tab stop.\n"
     ]
    }
   ],
   "source": [
    "print(\"Insert a horizontal tab. \\tWhen the string is displayed, \\tfor each tab, \\tmove the screen cursor to the next tab stop.\")"
   ]
  },
  {
   "cell_type": "code",
   "execution_count": 42,
   "id": "0f6f4862",
   "metadata": {},
   "outputs": [
    {
     "name": "stdout",
     "output_type": "stream",
     "text": [
      "His name is \"Eric\"\n"
     ]
    }
   ],
   "source": [
    "print(\"His name is \\\"Eric\\\"\")"
   ]
  },
  {
   "cell_type": "code",
   "execution_count": 44,
   "id": "13159314",
   "metadata": {},
   "outputs": [
    {
     "name": "stdout",
     "output_type": "stream",
     "text": [
      "list of chapters: \n",
      "\t\tString \n",
      "\t\tList \n",
      "\t\tTuple \n",
      "\t\tControl Structure\n"
     ]
    }
   ],
   "source": [
    "print(\"list of chapters: \\n\\t\\tString \\n\\t\\tList \\n\\t\\tTuple \\n\\t\\tControl Structure\")"
   ]
  },
  {
   "cell_type": "code",
   "execution_count": null,
   "id": "bd830981",
   "metadata": {},
   "outputs": [],
   "source": []
  },
  {
   "cell_type": "code",
   "execution_count": null,
   "id": "5057a6ea",
   "metadata": {},
   "outputs": [],
   "source": []
  },
  {
   "cell_type": "markdown",
   "id": "59e57742",
   "metadata": {},
   "source": [
    "## Useful methods for split a string"
   ]
  },
  {
   "cell_type": "code",
   "execution_count": 45,
   "id": "972a849e",
   "metadata": {},
   "outputs": [
    {
     "data": {
      "text/plain": [
       "'PyTHon PrograMMing LangUagE'"
      ]
     },
     "execution_count": 45,
     "metadata": {},
     "output_type": "execute_result"
    }
   ],
   "source": [
    "message"
   ]
  },
  {
   "cell_type": "code",
   "execution_count": 46,
   "id": "a30d3f33",
   "metadata": {},
   "outputs": [
    {
     "data": {
      "text/plain": [
       "['PyTHon', 'PrograMMing', 'LangUagE']"
      ]
     },
     "execution_count": 46,
     "metadata": {},
     "output_type": "execute_result"
    }
   ],
   "source": [
    "message.split(sep=\" \")"
   ]
  },
  {
   "cell_type": "code",
   "execution_count": null,
   "id": "64d6d026",
   "metadata": {},
   "outputs": [],
   "source": []
  },
  {
   "cell_type": "markdown",
   "id": "767a741a",
   "metadata": {},
   "source": [
    "## Useful methods for strip a string\n",
    "- lstrip\n",
    "- rstrip\n",
    "- strip"
   ]
  },
  {
   "cell_type": "code",
   "execution_count": 47,
   "id": "a98d7290",
   "metadata": {},
   "outputs": [],
   "source": [
    "message = \" Programming Language \""
   ]
  },
  {
   "cell_type": "code",
   "execution_count": 48,
   "id": "4a0a4f48",
   "metadata": {},
   "outputs": [
    {
     "data": {
      "text/plain": [
       "'Programming Language'"
      ]
     },
     "execution_count": 48,
     "metadata": {},
     "output_type": "execute_result"
    }
   ],
   "source": [
    "message.strip()"
   ]
  },
  {
   "cell_type": "code",
   "execution_count": 49,
   "id": "878aea11",
   "metadata": {},
   "outputs": [
    {
     "data": {
      "text/plain": [
       "'Programming Language '"
      ]
     },
     "execution_count": 49,
     "metadata": {},
     "output_type": "execute_result"
    }
   ],
   "source": [
    "message.lstrip()"
   ]
  },
  {
   "cell_type": "code",
   "execution_count": null,
   "id": "172ecf84",
   "metadata": {},
   "outputs": [],
   "source": []
  },
  {
   "cell_type": "markdown",
   "id": "59666fd1",
   "metadata": {},
   "source": [
    "## Practice2\n",
    "1. Stripping Names: Store a person’s name, and include some whitespace characters at the beginning and end of the name. Make sure you use each character combination, \"\\t\" and \"\\n\", at least once.\n",
    "Print the name once, so the whitespace around the name is displayed.\n",
    "Then print the name using each of the three stripping functions, lstrip(),\n",
    "rstrip(), and strip()."
   ]
  },
  {
   "cell_type": "code",
   "execution_count": 60,
   "id": "a0fa9df3",
   "metadata": {},
   "outputs": [
    {
     "name": "stdout",
     "output_type": "stream",
     "text": [
      "s\t\n",
      "Gavin\n"
     ]
    }
   ],
   "source": [
    "name= (\"s\\t\\nGavin\") \n",
    "print(name)"
   ]
  },
  {
   "cell_type": "code",
   "execution_count": 57,
   "id": "26377f7e",
   "metadata": {},
   "outputs": [
    {
     "name": "stdout",
     "output_type": "stream",
     "text": [
      " s\t\n",
      "Gavin\n"
     ]
    }
   ],
   "source": [
    "print(name.rstrip())"
   ]
  },
  {
   "cell_type": "code",
   "execution_count": 59,
   "id": "b86dc1a6",
   "metadata": {},
   "outputs": [
    {
     "name": "stdout",
     "output_type": "stream",
     "text": [
      "s\t\n",
      "Gavin\n"
     ]
    }
   ],
   "source": [
    "print(name.lstrip())"
   ]
  },
  {
   "cell_type": "markdown",
   "id": "7cb5c2e0",
   "metadata": {},
   "source": [
    "#### Replacing words or characters of a string"
   ]
  },
  {
   "cell_type": "code",
   "execution_count": 63,
   "id": "22032818",
   "metadata": {},
   "outputs": [
    {
     "name": "stdout",
     "output_type": "stream",
     "text": [
      "Python Prograiming Language\n"
     ]
    }
   ],
   "source": [
    "message1=\"Python Prograiming Language\"\n",
    "print(message1)"
   ]
  },
  {
   "cell_type": "code",
   "execution_count": 66,
   "id": "1631042e",
   "metadata": {},
   "outputs": [
    {
     "name": "stdout",
     "output_type": "stream",
     "text": [
      "JAVA Prograiming Language\n"
     ]
    }
   ],
   "source": [
    "message2=message1.replace(\"Python\", \"JAVA\")\n",
    "print(message2)"
   ]
  },
  {
   "cell_type": "code",
   "execution_count": 67,
   "id": "5b3de060",
   "metadata": {},
   "outputs": [
    {
     "data": {
      "text/plain": [
       "'Iython Irograiming Language'"
      ]
     },
     "execution_count": 67,
     "metadata": {},
     "output_type": "execute_result"
    }
   ],
   "source": [
    "message1.replace(\"P\", \"I\")"
   ]
  },
  {
   "cell_type": "markdown",
   "id": "7a2ff52e",
   "metadata": {},
   "source": [
    "# Number"
   ]
  },
  {
   "cell_type": "markdown",
   "id": "7ed88df4",
   "metadata": {},
   "source": [
    "# Data Types\n",
    "* `float` (floating point) - used for real numbers.\n",
    "* `int` (integer) - used for integers."
   ]
  },
  {
   "cell_type": "markdown",
   "id": "c37ef37a",
   "metadata": {},
   "source": [
    "## Arithmetic Operator\n",
    "| Python operation | Arithmetic operator | Python expression\n",
    "| :-------- | :-------- | :-------- \n",
    "| Addition | `+`  | `f + 7` \n",
    "| Subtraction | `–` | `p - c` \n",
    "| Multiplication | `*` | `b * m` \n",
    "| Exponentiation | `**` |  `x ** y` \n",
    "| True division | `/` | `x / y` \n",
    "| Floor division | `//` | `x // y` \n",
    "| Remainder (modulo) | `%` | `r % s` \n",
    "\n",
    "`Floor division` is an operation in Python that divides two numbers and rounds the result down to the nearest integer."
   ]
  },
  {
   "cell_type": "code",
   "execution_count": 1,
   "id": "ddee7b60",
   "metadata": {},
   "outputs": [
    {
     "data": {
      "text/plain": [
       "10.5"
      ]
     },
     "execution_count": 1,
     "metadata": {},
     "output_type": "execute_result"
    }
   ],
   "source": [
    "3+7.5"
   ]
  },
  {
   "cell_type": "code",
   "execution_count": 2,
   "id": "89065958",
   "metadata": {},
   "outputs": [
    {
     "data": {
      "text/plain": [
       "4.77"
      ]
     },
     "execution_count": 2,
     "metadata": {},
     "output_type": "execute_result"
    }
   ],
   "source": [
    "7-2.23"
   ]
  },
  {
   "cell_type": "code",
   "execution_count": 3,
   "id": "0a916868",
   "metadata": {},
   "outputs": [
    {
     "data": {
      "text/plain": [
       "45"
      ]
     },
     "execution_count": 3,
     "metadata": {},
     "output_type": "execute_result"
    }
   ],
   "source": [
    "5*9"
   ]
  },
  {
   "cell_type": "code",
   "execution_count": 6,
   "id": "285cb559",
   "metadata": {},
   "outputs": [
    {
     "name": "stdout",
     "output_type": "stream",
     "text": [
      "the exponent:  8\n"
     ]
    }
   ],
   "source": [
    "print(\"the exponent: \",2**3) #2^3"
   ]
  },
  {
   "cell_type": "code",
   "execution_count": 7,
   "id": "fb81f2be",
   "metadata": {},
   "outputs": [
    {
     "name": "stdout",
     "output_type": "stream",
     "text": [
      "the exponent of 5 square is:  25\n"
     ]
    }
   ],
   "source": [
    "print(\"the exponent of 5 square is: \",5**2) #5^2"
   ]
  },
  {
   "cell_type": "code",
   "execution_count": 8,
   "id": "5270f236",
   "metadata": {},
   "outputs": [
    {
     "name": "stdout",
     "output_type": "stream",
     "text": [
      "True division 2.5\n"
     ]
    }
   ],
   "source": [
    "print(\"True division\", 5/2)"
   ]
  },
  {
   "cell_type": "code",
   "execution_count": 9,
   "id": "1e9b96e1",
   "metadata": {},
   "outputs": [
    {
     "name": "stdout",
     "output_type": "stream",
     "text": [
      "floor division 2\n"
     ]
    }
   ],
   "source": [
    "print(\"floor division\", 5//2)"
   ]
  },
  {
   "cell_type": "code",
   "execution_count": 10,
   "id": "9bedeb38",
   "metadata": {},
   "outputs": [
    {
     "name": "stdout",
     "output_type": "stream",
     "text": [
      "The modulo/ remainder 1\n"
     ]
    }
   ],
   "source": [
    "print(\"The modulo/ remainder\", 3%2)"
   ]
  },
  {
   "cell_type": "code",
   "execution_count": 11,
   "id": "bdd79c14",
   "metadata": {},
   "outputs": [
    {
     "name": "stdout",
     "output_type": "stream",
     "text": [
      "the modulo/ remainder 19.0\n"
     ]
    }
   ],
   "source": [
    "print(\"the modulo/ remainder\", 57/3)"
   ]
  },
  {
   "cell_type": "markdown",
   "id": "290d4afb",
   "metadata": {},
   "source": [
    "## Avoiding Type Errors with the str() Function"
   ]
  },
  {
   "cell_type": "code",
   "execution_count": 14,
   "id": "d853bd0b",
   "metadata": {},
   "outputs": [
    {
     "name": "stdout",
     "output_type": "stream",
     "text": [
      "the age of Ella is 21\n"
     ]
    }
   ],
   "source": [
    "age=21\n",
    "name=\"Ella\"\n",
    "print(\"the age of \"+name +\" is \"+str(age))"
   ]
  },
  {
   "cell_type": "code",
   "execution_count": 16,
   "id": "9da718ed",
   "metadata": {},
   "outputs": [
    {
     "name": "stdout",
     "output_type": "stream",
     "text": [
      "the age of Ella is 21\n"
     ]
    }
   ],
   "source": [
    "print(\"the age of \"+name +\" is\",age)"
   ]
  },
  {
   "cell_type": "code",
   "execution_count": null,
   "id": "d3d77d88",
   "metadata": {},
   "outputs": [],
   "source": []
  },
  {
   "cell_type": "code",
   "execution_count": null,
   "id": "5936f26c",
   "metadata": {},
   "outputs": [],
   "source": []
  },
  {
   "cell_type": "markdown",
   "id": "165bd5f8",
   "metadata": {},
   "source": [
    "## Practice3 \n",
    "1. Write addition, subtraction, multiplication, and division\n",
    "operations that each result in the number 91. Be sure to enclose your operations\n",
    "in print statements to see the results. You should create four lines that look\n",
    "like this:\n",
    "print(53 + 38)\n",
    "Your output should simply be four lines with the number 91 appearing once\n",
    "on each line.\n",
    "2. Favorite Number: Store your favorite number in a variable. Then, using\n",
    "that variable, create a message that reveals your favorite number. Print that\n",
    "message."
   ]
  },
  {
   "cell_type": "code",
   "execution_count": 19,
   "id": "0deea5b4",
   "metadata": {},
   "outputs": [
    {
     "name": "stdout",
     "output_type": "stream",
     "text": [
      "the addition is 91\n"
     ]
    }
   ],
   "source": [
    "print(\"the addition is\",53+38)"
   ]
  },
  {
   "cell_type": "code",
   "execution_count": 22,
   "id": "3abdb7ed",
   "metadata": {},
   "outputs": [
    {
     "name": "stdout",
     "output_type": "stream",
     "text": [
      "the subtraction is 91\n"
     ]
    }
   ],
   "source": [
    "print(\"the subtraction is\",92-1)"
   ]
  },
  {
   "cell_type": "code",
   "execution_count": 23,
   "id": "64f1ae69",
   "metadata": {},
   "outputs": [
    {
     "name": "stdout",
     "output_type": "stream",
     "text": [
      "the mulitiplication is 91\n"
     ]
    }
   ],
   "source": [
    "print(\"the mulitiplication is\",91*1)"
   ]
  },
  {
   "cell_type": "code",
   "execution_count": 24,
   "id": "c1a312f4",
   "metadata": {},
   "outputs": [
    {
     "name": "stdout",
     "output_type": "stream",
     "text": [
      "the division is 91.0\n"
     ]
    }
   ],
   "source": [
    "print(\"the division is\",91/1)"
   ]
  },
  {
   "cell_type": "code",
   "execution_count": 28,
   "id": "aa7472e3",
   "metadata": {},
   "outputs": [
    {
     "name": "stdout",
     "output_type": "stream",
     "text": [
      "my favorite number is 4\n"
     ]
    }
   ],
   "source": [
    "favorite_number=4\n",
    "print(\"my favorite number is\",str(favorite_number))"
   ]
  },
  {
   "cell_type": "code",
   "execution_count": null,
   "id": "9255fb29",
   "metadata": {},
   "outputs": [],
   "source": []
  },
  {
   "cell_type": "markdown",
   "id": "e05b5c26",
   "metadata": {},
   "source": [
    "## Getting Input from the User\n",
    "* Built-in **`input` function** requests and obtains user input."
   ]
  },
  {
   "cell_type": "code",
   "execution_count": 29,
   "id": "4fec3462",
   "metadata": {},
   "outputs": [
    {
     "name": "stdout",
     "output_type": "stream",
     "text": [
      "Enter your favourite flower/'s name: Brocolli\n"
     ]
    }
   ],
   "source": [
    "flower_name=input(\"Enter your favourite flower/'s name: \")"
   ]
  },
  {
   "cell_type": "code",
   "execution_count": 30,
   "id": "d5a698c2",
   "metadata": {},
   "outputs": [
    {
     "name": "stdout",
     "output_type": "stream",
     "text": [
      "enter your favorite day: Friday\n"
     ]
    }
   ],
   "source": [
    "favorite_day= input(\"enter your favorite day: \")"
   ]
  },
  {
   "cell_type": "code",
   "execution_count": 31,
   "id": "93f54fc5",
   "metadata": {},
   "outputs": [
    {
     "data": {
      "text/plain": [
       "str"
      ]
     },
     "execution_count": 31,
     "metadata": {},
     "output_type": "execute_result"
    }
   ],
   "source": [
    "type(flower_name)"
   ]
  },
  {
   "cell_type": "code",
   "execution_count": 33,
   "id": "a33af868",
   "metadata": {},
   "outputs": [
    {
     "data": {
      "text/plain": [
       "str"
      ]
     },
     "execution_count": 33,
     "metadata": {},
     "output_type": "execute_result"
    }
   ],
   "source": [
    "type(favorite_day)"
   ]
  },
  {
   "cell_type": "code",
   "execution_count": 35,
   "id": "04674372",
   "metadata": {},
   "outputs": [
    {
     "name": "stdout",
     "output_type": "stream",
     "text": [
      "enter your favorite number: 4\n"
     ]
    }
   ],
   "source": [
    "favorite_number=input(\"enter your favorite number: \")"
   ]
  },
  {
   "cell_type": "code",
   "execution_count": 37,
   "id": "b7151867",
   "metadata": {},
   "outputs": [
    {
     "name": "stdout",
     "output_type": "stream",
     "text": [
      "enter your favorite number: 4\n"
     ]
    }
   ],
   "source": [
    "fav_number=int(input(\"enter your favorite number: \"))"
   ]
  },
  {
   "cell_type": "code",
   "execution_count": 38,
   "id": "cfe9bb68",
   "metadata": {},
   "outputs": [
    {
     "data": {
      "text/plain": [
       "int"
      ]
     },
     "execution_count": 38,
     "metadata": {},
     "output_type": "execute_result"
    }
   ],
   "source": [
    "type(fav_number)"
   ]
  },
  {
   "cell_type": "markdown",
   "id": "476c6426",
   "metadata": {},
   "source": [
    "## Getting an Integer/ Float from the User\n",
    "* If you need an integer, convert the string to an integer using the built-in **`int` / `float` function**. "
   ]
  },
  {
   "cell_type": "code",
   "execution_count": 68,
   "id": "1905f791",
   "metadata": {},
   "outputs": [
    {
     "name": "stdout",
     "output_type": "stream",
     "text": [
      "enter a real number/ floating point number: 12.33\n"
     ]
    }
   ],
   "source": [
    "number=float(input(\"enter a real number/ floating point number: \"))"
   ]
  },
  {
   "cell_type": "code",
   "execution_count": 69,
   "id": "a8b6814e",
   "metadata": {},
   "outputs": [
    {
     "name": "stdout",
     "output_type": "stream",
     "text": [
      "<class 'float'>\n"
     ]
    }
   ],
   "source": [
    "print(type(number))"
   ]
  },
  {
   "cell_type": "code",
   "execution_count": 70,
   "id": "ca034e5f",
   "metadata": {},
   "outputs": [
    {
     "data": {
      "text/plain": [
       "float"
      ]
     },
     "execution_count": 70,
     "metadata": {},
     "output_type": "execute_result"
    }
   ],
   "source": [
    "type(number)"
   ]
  },
  {
   "cell_type": "markdown",
   "id": "6ff42bfa",
   "metadata": {},
   "source": [
    "## Checking the data type using `type` function"
   ]
  },
  {
   "cell_type": "code",
   "execution_count": 43,
   "id": "e1b73434",
   "metadata": {},
   "outputs": [
    {
     "name": "stdout",
     "output_type": "stream",
     "text": [
      "<class 'int'>\n",
      "<class 'str'>\n"
     ]
    }
   ],
   "source": [
    "number=432\n",
    "name= \"Gavin\"\n",
    "print(type(number))\n",
    "print(type(name))"
   ]
  },
  {
   "cell_type": "code",
   "execution_count": null,
   "id": "5c848906",
   "metadata": {},
   "outputs": [],
   "source": []
  },
  {
   "cell_type": "markdown",
   "id": "fc6e7e28",
   "metadata": {},
   "source": [
    "## Errors in Python\n",
    "When an error occurs in your program, the Python interpreter does its\n",
    "best to help you figure out where the problem is. The interpreter provides\n",
    "a traceback when a program cannot run successfully. A traceback is a record\n",
    "of where the interpreter ran into trouble when trying to execute your code.\n",
    "Errors can be classified into three major groups:\n",
    "- Syntax errors\n",
    "- Runtime errors\n",
    "- Logical errors"
   ]
  },
  {
   "cell_type": "markdown",
   "id": "7fe3220f",
   "metadata": {},
   "source": [
    "### Syntax error.\n",
    "- Python will find these kinds of errors when it tries to parse your program, and exit with an error message without running anything. \n",
    "- Syntax errors are mistakes in the use of the Python language, and are analogous to spelling or grammar mistakes in a language like English: for example, the sentence Would you some tea? does not make sense – it is missing a verb.\n"
   ]
  },
  {
   "cell_type": "markdown",
   "id": "88840cff",
   "metadata": {},
   "source": [
    "### Example:\n",
    "- leaving out a keyword\n",
    "- putting a keyword in the wrong place\n",
    "- leaving out a symbol, such as a colon, comma or brackets\n",
    "- misspelling a keyword\n",
    "- incorrect indentation\n",
    "- empty block"
   ]
  },
  {
   "cell_type": "code",
   "execution_count": 45,
   "id": "1b4b64c3",
   "metadata": {},
   "outputs": [
    {
     "ename": "SyntaxError",
     "evalue": "EOL while scanning string literal (844735108.py, line 1)",
     "output_type": "error",
     "traceback": [
      "\u001b[1;36m  File \u001b[1;32m\"C:\\Users\\rober\\AppData\\Local\\Temp\\ipykernel_9868\\844735108.py\"\u001b[1;36m, line \u001b[1;32m1\u001b[0m\n\u001b[1;33m    print(\"this is an error message)\u001b[0m\n\u001b[1;37m                                    ^\u001b[0m\n\u001b[1;31mSyntaxError\u001b[0m\u001b[1;31m:\u001b[0m EOL while scanning string literal\n"
     ]
    }
   ],
   "source": [
    "print(\"this is an error message)"
   ]
  },
  {
   "cell_type": "code",
   "execution_count": 46,
   "id": "92353ef9",
   "metadata": {},
   "outputs": [
    {
     "name": "stdout",
     "output_type": "stream",
     "text": [
      "this is an error message\n"
     ]
    }
   ],
   "source": [
    "print(\"this is an error message\")"
   ]
  },
  {
   "cell_type": "code",
   "execution_count": 48,
   "id": "c241756e",
   "metadata": {},
   "outputs": [
    {
     "ename": "SyntaxError",
     "evalue": "cannot assign to function call (1735045461.py, line 1)",
     "output_type": "error",
     "traceback": [
      "\u001b[1;36m  File \u001b[1;32m\"C:\\Users\\rober\\AppData\\Local\\Temp\\ipykernel_9868\\1735045461.py\"\u001b[1;36m, line \u001b[1;32m1\u001b[0m\n\u001b[1;33m    len(\"hello\")=5\u001b[0m\n\u001b[1;37m    ^\u001b[0m\n\u001b[1;31mSyntaxError\u001b[0m\u001b[1;31m:\u001b[0m cannot assign to function call\n"
     ]
    }
   ],
   "source": [
    "len(\"hello\")=5"
   ]
  },
  {
   "cell_type": "code",
   "execution_count": 49,
   "id": "186af861",
   "metadata": {},
   "outputs": [
    {
     "ename": "SyntaxError",
     "evalue": "cannot assign to literal (3977211659.py, line 1)",
     "output_type": "error",
     "traceback": [
      "\u001b[1;36m  File \u001b[1;32m\"C:\\Users\\rober\\AppData\\Local\\Temp\\ipykernel_9868\\3977211659.py\"\u001b[1;36m, line \u001b[1;32m1\u001b[0m\n\u001b[1;33m    1=\"python\"\u001b[0m\n\u001b[1;37m    ^\u001b[0m\n\u001b[1;31mSyntaxError\u001b[0m\u001b[1;31m:\u001b[0m cannot assign to literal\n"
     ]
    }
   ],
   "source": [
    "1=\"python\""
   ]
  },
  {
   "cell_type": "markdown",
   "id": "f10a50b1",
   "metadata": {},
   "source": [
    "## Runtime error\n",
    "- A program with a runtime error is one that passed the interpreter’s syntax checks, and started to execute. \n",
    "- However, during the execution of one of the statements in the program, an error occurred that caused the interpreter to stop executing the program and display an error message. \n",
    "- Runtime errors are also called `exceptions` because they usually indicate that something exceptional (and bad) has happened."
   ]
  },
  {
   "cell_type": "markdown",
   "id": "b5ce828a",
   "metadata": {},
   "source": [
    "### Examples: \n",
    "- division by zero.\n",
    "- performing an operation on incompatible types.\n",
    "- using an identifier which has not been defined.\n",
    "- accessing a list element, dictionary value or object attribute which doesn't exist.\n",
    "- trying to access a file which doesn't exist."
   ]
  },
  {
   "cell_type": "code",
   "execution_count": 50,
   "id": "7176f581",
   "metadata": {},
   "outputs": [
    {
     "ename": "ZeroDivisionError",
     "evalue": "division by zero",
     "output_type": "error",
     "traceback": [
      "\u001b[1;31m---------------------------------------------------------------------------\u001b[0m",
      "\u001b[1;31mZeroDivisionError\u001b[0m                         Traceback (most recent call last)",
      "\u001b[1;32m~\\AppData\\Local\\Temp\\ipykernel_9868\\1441998455.py\u001b[0m in \u001b[0;36m<module>\u001b[1;34m\u001b[0m\n\u001b[1;32m----> 1\u001b[1;33m \u001b[1;36m15\u001b[0m\u001b[1;33m/\u001b[0m\u001b[1;36m0\u001b[0m\u001b[1;33m\u001b[0m\u001b[1;33m\u001b[0m\u001b[0m\n\u001b[0m",
      "\u001b[1;31mZeroDivisionError\u001b[0m: division by zero"
     ]
    }
   ],
   "source": [
    "15/0"
   ]
  },
  {
   "cell_type": "code",
   "execution_count": 63,
   "id": "15f63562",
   "metadata": {},
   "outputs": [
    {
     "name": "stdout",
     "output_type": "stream",
     "text": [
      "enter the total amount before tax: 23\n"
     ]
    },
    {
     "ename": "TypeError",
     "evalue": "can't multiply sequence by non-int of type 'float'",
     "output_type": "error",
     "traceback": [
      "\u001b[1;31m---------------------------------------------------------------------------\u001b[0m",
      "\u001b[1;31mTypeError\u001b[0m                                 Traceback (most recent call last)",
      "\u001b[1;32m~\\AppData\\Local\\Temp\\ipykernel_9868\\3098175990.py\u001b[0m in \u001b[0;36m<module>\u001b[1;34m\u001b[0m\n\u001b[0;32m      1\u001b[0m \u001b[0mamount\u001b[0m\u001b[1;33m=\u001b[0m\u001b[0minput\u001b[0m\u001b[1;33m(\u001b[0m\u001b[1;34m\"enter the total amount before tax: \"\u001b[0m\u001b[1;33m)\u001b[0m\u001b[1;33m\u001b[0m\u001b[1;33m\u001b[0m\u001b[0m\n\u001b[0;32m      2\u001b[0m \u001b[0mtax\u001b[0m\u001b[1;33m=\u001b[0m\u001b[1;36m0.06\u001b[0m\u001b[1;33m\u001b[0m\u001b[1;33m\u001b[0m\u001b[0m\n\u001b[1;32m----> 3\u001b[1;33m \u001b[0mprint\u001b[0m\u001b[1;33m(\u001b[0m\u001b[1;34m\"the total is: \"\u001b[0m\u001b[1;33m,\u001b[0m \u001b[0mamount\u001b[0m\u001b[1;33m*\u001b[0m\u001b[0mtax\u001b[0m\u001b[1;33m+\u001b[0m\u001b[0mAmount\u001b[0m\u001b[1;33m)\u001b[0m\u001b[1;33m\u001b[0m\u001b[1;33m\u001b[0m\u001b[0m\n\u001b[0m",
      "\u001b[1;31mTypeError\u001b[0m: can't multiply sequence by non-int of type 'float'"
     ]
    }
   ],
   "source": [
    "amount=input(\"enter the total amount before tax: \")\n",
    "tax=0.06\n",
    "print(\"the total is: \", amount*tax+Amount)"
   ]
  },
  {
   "cell_type": "code",
   "execution_count": 62,
   "id": "d1402fc5",
   "metadata": {},
   "outputs": [
    {
     "name": "stdout",
     "output_type": "stream",
     "text": [
      "enter the total amount before tax: 23\n"
     ]
    },
    {
     "ename": "NameError",
     "evalue": "name 'Amount' is not defined",
     "output_type": "error",
     "traceback": [
      "\u001b[1;31m---------------------------------------------------------------------------\u001b[0m",
      "\u001b[1;31mNameError\u001b[0m                                 Traceback (most recent call last)",
      "\u001b[1;32m~\\AppData\\Local\\Temp\\ipykernel_9868\\2166510431.py\u001b[0m in \u001b[0;36m<module>\u001b[1;34m\u001b[0m\n\u001b[0;32m      1\u001b[0m \u001b[0mamount\u001b[0m\u001b[1;33m=\u001b[0m\u001b[0mint\u001b[0m\u001b[1;33m(\u001b[0m\u001b[0minput\u001b[0m\u001b[1;33m(\u001b[0m\u001b[1;34m\"enter the total amount before tax: \"\u001b[0m\u001b[1;33m)\u001b[0m\u001b[1;33m)\u001b[0m\u001b[1;33m\u001b[0m\u001b[1;33m\u001b[0m\u001b[0m\n\u001b[0;32m      2\u001b[0m \u001b[0mtax\u001b[0m\u001b[1;33m=\u001b[0m\u001b[1;36m0.06\u001b[0m\u001b[1;33m\u001b[0m\u001b[1;33m\u001b[0m\u001b[0m\n\u001b[1;32m----> 3\u001b[1;33m \u001b[0mprint\u001b[0m\u001b[1;33m(\u001b[0m\u001b[1;34m\"the total is: \"\u001b[0m\u001b[1;33m,\u001b[0m \u001b[0mamount\u001b[0m\u001b[1;33m*\u001b[0m\u001b[0mtax\u001b[0m\u001b[1;33m+\u001b[0m\u001b[0mAmount\u001b[0m\u001b[1;33m)\u001b[0m\u001b[1;33m\u001b[0m\u001b[1;33m\u001b[0m\u001b[0m\n\u001b[0m",
      "\u001b[1;31mNameError\u001b[0m: name 'Amount' is not defined"
     ]
    }
   ],
   "source": [
    "amount=int(input(\"enter the total amount before tax: \"))\n",
    "tax=0.06\n",
    "print(\"the total is: \", amount*tax+Amount)"
   ]
  },
  {
   "cell_type": "code",
   "execution_count": 61,
   "id": "7b172df3",
   "metadata": {},
   "outputs": [
    {
     "name": "stdout",
     "output_type": "stream",
     "text": [
      "enter the total amount before tax: 23\n",
      "the total is:  24.38\n"
     ]
    }
   ],
   "source": [
    "amount=int(input(\"enter the total amount before tax: \"))\n",
    "tax=0.06\n",
    "print(\"the total is: \", amount*tax+amount)"
   ]
  },
  {
   "cell_type": "markdown",
   "id": "6dec365d",
   "metadata": {},
   "source": [
    "### Logical error\n",
    "- Logical errors are the most difficult to fix. They occur when the program runs without crashing, but produces an incorrect result. \n",
    "- The error is caused by a mistake in the program’s logic. \n",
    "- You won’t get an error message, because no syntax or runtime error has occurred. \n",
    "- You will have to find the problem on your own by reviewing all the relevant parts of your code "
   ]
  },
  {
   "cell_type": "code",
   "execution_count": 67,
   "id": "49aba111",
   "metadata": {},
   "outputs": [
    {
     "name": "stdout",
     "output_type": "stream",
     "text": [
      "enter a integer number: 23\n",
      "enter a floating integer number: 23.345\n",
      "the multiplication of number1 and number2 is:  536.935\n"
     ]
    }
   ],
   "source": [
    "number1=int(input(\"enter a integer number: \"))\n",
    "number2=float(input(\"enter a floating integer number: \"))\n",
    "print(\"the multiplication of number1 and number2 is: \", number1*number2)"
   ]
  },
  {
   "cell_type": "code",
   "execution_count": null,
   "id": "d62a5c59",
   "metadata": {},
   "outputs": [],
   "source": []
  },
  {
   "cell_type": "code",
   "execution_count": null,
   "id": "16d4bda9",
   "metadata": {},
   "outputs": [],
   "source": []
  }
 ],
 "metadata": {
  "kernelspec": {
   "display_name": "Python 3 (ipykernel)",
   "language": "python",
   "name": "python3"
  },
  "language_info": {
   "codemirror_mode": {
    "name": "ipython",
    "version": 3
   },
   "file_extension": ".py",
   "mimetype": "text/x-python",
   "name": "python",
   "nbconvert_exporter": "python",
   "pygments_lexer": "ipython3",
   "version": "3.9.13"
  }
 },
 "nbformat": 4,
 "nbformat_minor": 5
}
